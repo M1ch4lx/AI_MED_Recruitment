{
 "cells": [
  {
   "cell_type": "markdown",
   "id": "3a6d6f94",
   "metadata": {},
   "source": [
    "# IN PROGRESS!!!!! dzisiaj skończe :)"
   ]
  },
  {
   "cell_type": "code",
   "execution_count": 33,
   "id": "d35fedd7",
   "metadata": {},
   "outputs": [],
   "source": [
    "import pandas as pd\n",
    "import numpy as np\n",
    "from sklearn.model_selection import train_test_split\n",
    "from sklearn.impute import SimpleImputer\n",
    "from sklearn.preprocessing import StandardScaler\n",
    "from sklearn.neighbors import KNeighborsClassifier\n",
    "from sklearn.pipeline import Pipeline\n",
    "from sklearn.model_selection import cross_val_score\n",
    "from matplotlib import pyplot as plt\n",
    "from sklearn.metrics import ConfusionMatrixDisplay, confusion_matrix\n",
    "from sklearn.model_selection import StratifiedKFold\n",
    "from sklearn.model_selection import RepeatedStratifiedKFold"
   ]
  },
  {
   "cell_type": "markdown",
   "id": "1dfd87e6",
   "metadata": {},
   "source": [
    "# Classification of a Heart with Hypertrophic Cardiomyopathy (Cardiomegaly)"
   ]
  },
  {
   "cell_type": "markdown",
   "id": "6161af3b",
   "metadata": {},
   "source": [
    "### Specify data file path"
   ]
  },
  {
   "cell_type": "code",
   "execution_count": 6,
   "id": "b9564d5e",
   "metadata": {},
   "outputs": [],
   "source": [
    "csv_path = \"task_data.csv\""
   ]
  },
  {
   "cell_type": "markdown",
   "id": "462b4a96",
   "metadata": {},
   "source": [
    "## Load data\n",
    "\n",
    "Make sure to specify correct decimal separator"
   ]
  },
  {
   "cell_type": "code",
   "execution_count": 15,
   "id": "44798058",
   "metadata": {},
   "outputs": [
    {
     "name": "stdout",
     "output_type": "stream",
     "text": [
      "Loaded: (37, 14)\n",
      "Columns: ['ID', 'Cardiomegaly', 'Heart width', 'Lung width', 'CTR - Cardiothoracic Ratio', 'xx', 'yy', 'xy', 'normalized_diff', 'Inscribed circle radius', 'Polygon Area Ratio', 'Heart perimeter', 'Heart area ', 'Lung area']\n"
     ]
    }
   ],
   "source": [
    "df = pd.read_csv(csv_path, decimal=',')\n",
    "\n",
    "print(\"Loaded:\", df.shape)\n",
    "print(\"Columns:\", list(df.columns)[:14])\n",
    "\n",
    "id_col = df.columns[0]\n",
    "label_col = df.columns[1]\n",
    "\n",
    "X = df.drop(columns=[id_col, label_col])\n",
    "y = df[label_col]\n"
   ]
  },
  {
   "cell_type": "markdown",
   "id": "fa505987",
   "metadata": {},
   "source": [
    "## Split the data into trainting and test sets"
   ]
  },
  {
   "cell_type": "code",
   "execution_count": 16,
   "id": "f7831c1a",
   "metadata": {},
   "outputs": [
    {
     "name": "stdout",
     "output_type": "stream",
     "text": [
      "\n",
      "Train/test shapes: (29, 12) (8, 12)\n",
      "Train label distribution:\n",
      " Cardiomegaly\n",
      "1    22\n",
      "0     7\n",
      "Name: count, dtype: int64\n",
      "Test  label distribution:\n",
      " Cardiomegaly\n",
      "1    6\n",
      "0    2\n",
      "Name: count, dtype: int64\n"
     ]
    }
   ],
   "source": [
    "X_train, X_test, y_train, y_test = train_test_split(\n",
    "    X, y, test_size=0.20, stratify=y, random_state=42\n",
    ")\n",
    "\n",
    "print(\"\\nTrain/test shapes:\", X_train.shape, X_test.shape)\n",
    "\n",
    "print(\"Train label distribution:\\n\", y_train.value_counts())\n",
    "print(\"Test  label distribution:\\n\", y_test.value_counts())"
   ]
  },
  {
   "cell_type": "markdown",
   "id": "78137e45",
   "metadata": {},
   "source": [
    "## KNN model\n",
    "\n",
    "As you can see accuract isn't the best. Also data set is very small, only 29 samples in train set. Also it is imbalanced as only 7 samples represents healthy hearts."
   ]
  },
  {
   "cell_type": "code",
   "execution_count": 31,
   "id": "e4ee30bc",
   "metadata": {},
   "outputs": [
    {
     "name": "stdout",
     "output_type": "stream",
     "text": [
      "Accuracy per fold: [0.833 0.833 0.833 0.667 0.6  ]\n",
      "Mean CV accuracy: 0.753\n",
      "Standard deviation: 0.100\n"
     ]
    }
   ],
   "source": [
    "pipe_knn = Pipeline(steps=[\n",
    "    (\"scaler\", StandardScaler()),     \n",
    "    (\"model\", KNeighborsClassifier( \n",
    "        n_neighbors=3,             \n",
    "        weights='distance',        \n",
    "        metric='manhattan'\n",
    "    ))\n",
    "])\n",
    "\n",
    "pipe_knn.fit(X_train, y_train)\n",
    "\n",
    "cv_scores = cross_val_score(pipe_knn, X_train, y_train, cv=5)\n",
    "\n",
    "print(\"Accuracy per fold:\", np.round(cv_scores, 3))\n",
    "print(f\"Mean CV accuracy: {cv_scores.mean():.3f}\")\n",
    "print(f\"Standard deviation: {cv_scores.std():.3f}\")"
   ]
  },
  {
   "cell_type": "markdown",
   "id": "6e7282b3",
   "metadata": {},
   "source": [
    "First lets improve validation method. This method is better for small datasets as it repeats the KFold validation multiple times. As you can see we estimated a bit higher accuracy this time."
   ]
  },
  {
   "cell_type": "code",
   "execution_count": 37,
   "id": "4e0de9ae",
   "metadata": {},
   "outputs": [
    {
     "name": "stdout",
     "output_type": "stream",
     "text": [
      "Mean CV accuracy: 0.773\n",
      "Standard deviation: 0.144\n"
     ]
    }
   ],
   "source": [
    "cv = RepeatedStratifiedKFold(n_splits=5, n_repeats=10, random_state=42)\n",
    "\n",
    "scores = cross_val_score(pipe_knn, X_train, y_train, cv=cv)\n",
    "\n",
    "print(f\"Mean CV accuracy: {scores.mean():.3f}\")\n",
    "print(f\"Standard deviation: {scores.std():.3f}\")"
   ]
  },
  {
   "cell_type": "markdown",
   "id": "ac3b6b31",
   "metadata": {},
   "source": []
  },
  {
   "cell_type": "code",
   "execution_count": null,
   "id": "4ce25808",
   "metadata": {},
   "outputs": [],
   "source": []
  }
 ],
 "metadata": {
  "kernelspec": {
   "display_name": "AI_MED_Recruitment",
   "language": "python",
   "name": "python3"
  },
  "language_info": {
   "codemirror_mode": {
    "name": "ipython",
    "version": 3
   },
   "file_extension": ".py",
   "mimetype": "text/x-python",
   "name": "python",
   "nbconvert_exporter": "python",
   "pygments_lexer": "ipython3",
   "version": "3.14.0"
  }
 },
 "nbformat": 4,
 "nbformat_minor": 5
}
