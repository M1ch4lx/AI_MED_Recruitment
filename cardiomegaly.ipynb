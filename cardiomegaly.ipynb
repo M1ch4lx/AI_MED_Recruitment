{
 "cells": [
  {
   "cell_type": "markdown",
   "id": "3a6d6f94",
   "metadata": {},
   "source": [
    "# IN PROGRESS!!!!! dzisiaj skończe :)"
   ]
  },
  {
   "cell_type": "code",
   "execution_count": null,
   "id": "d35fedd7",
   "metadata": {},
   "outputs": [],
   "source": [
    "import pandas as pd\n",
    "import numpy as np\n",
    "from sklearn.model_selection import train_test_split\n",
    "from sklearn.impute import SimpleImputer\n",
    "from sklearn.preprocessing import StandardScaler\n",
    "from sklearn.neighbors import KNeighborsClassifier\n",
    "from sklearn.pipeline import Pipeline\n",
    "from sklearn.model_selection import cross_val_score\n",
    "from matplotlib import pyplot as plt\n",
    "from sklearn.metrics import ConfusionMatrixDisplay, confusion_matrix"
   ]
  },
  {
   "cell_type": "markdown",
   "id": "1dfd87e6",
   "metadata": {},
   "source": [
    "# Classification of a Heart with Hypertrophic Cardiomyopathy (Cardiomegaly)"
   ]
  },
  {
   "cell_type": "markdown",
   "id": "6161af3b",
   "metadata": {},
   "source": [
    "### Specify data file path"
   ]
  },
  {
   "cell_type": "code",
   "execution_count": 6,
   "id": "b9564d5e",
   "metadata": {},
   "outputs": [],
   "source": [
    "csv_path = \"task_data.csv\""
   ]
  },
  {
   "cell_type": "markdown",
   "id": "462b4a96",
   "metadata": {},
   "source": [
    "## Load data\n",
    "\n",
    "Make sure to specify correct decimal separator"
   ]
  },
  {
   "cell_type": "code",
   "execution_count": 15,
   "id": "44798058",
   "metadata": {},
   "outputs": [
    {
     "name": "stdout",
     "output_type": "stream",
     "text": [
      "Loaded: (37, 14)\n",
      "Columns: ['ID', 'Cardiomegaly', 'Heart width', 'Lung width', 'CTR - Cardiothoracic Ratio', 'xx', 'yy', 'xy', 'normalized_diff', 'Inscribed circle radius', 'Polygon Area Ratio', 'Heart perimeter', 'Heart area ', 'Lung area']\n"
     ]
    }
   ],
   "source": [
    "df = pd.read_csv(csv_path, decimal=',')\n",
    "\n",
    "print(\"Loaded:\", df.shape)\n",
    "print(\"Columns:\", list(df.columns)[:14])\n",
    "\n",
    "id_col = df.columns[0]\n",
    "label_col = df.columns[1]\n",
    "\n",
    "X = df.drop(columns=[id_col, label_col])\n",
    "y = df[label_col]\n"
   ]
  },
  {
   "cell_type": "markdown",
   "id": "fa505987",
   "metadata": {},
   "source": [
    "## Split the data into trainting and test sets"
   ]
  },
  {
   "cell_type": "code",
   "execution_count": 16,
   "id": "f7831c1a",
   "metadata": {},
   "outputs": [
    {
     "name": "stdout",
     "output_type": "stream",
     "text": [
      "\n",
      "Train/test shapes: (29, 12) (8, 12)\n",
      "Train label distribution:\n",
      " Cardiomegaly\n",
      "1    22\n",
      "0     7\n",
      "Name: count, dtype: int64\n",
      "Test  label distribution:\n",
      " Cardiomegaly\n",
      "1    6\n",
      "0    2\n",
      "Name: count, dtype: int64\n"
     ]
    }
   ],
   "source": [
    "X_train, X_test, y_train, y_test = train_test_split(\n",
    "    X, y, test_size=0.20, stratify=y, random_state=42\n",
    ")\n",
    "\n",
    "print(\"\\nTrain/test shapes:\", X_train.shape, X_test.shape)\n",
    "\n",
    "print(\"Train label distribution:\\n\", y_train.value_counts())\n",
    "print(\"Test  label distribution:\\n\", y_test.value_counts())"
   ]
  },
  {
   "cell_type": "markdown",
   "id": "643df802",
   "metadata": {},
   "source": [
    "## Preprocessing"
   ]
  },
  {
   "cell_type": "code",
   "execution_count": 17,
   "id": "e4207497",
   "metadata": {},
   "outputs": [],
   "source": [
    "scaler = StandardScaler()"
   ]
  },
  {
   "cell_type": "markdown",
   "id": "78137e45",
   "metadata": {},
   "source": [
    "## Training"
   ]
  },
  {
   "cell_type": "code",
   "execution_count": null,
   "id": "e4ee30bc",
   "metadata": {},
   "outputs": [
    {
     "name": "stdout",
     "output_type": "stream",
     "text": [
      "Cross-validation scores (accuracy per fold): [0.833 0.833 0.833 0.667 0.6  ]\n",
      "Mean CV accuracy: 0.753\n",
      "Standard deviation: 0.100\n"
     ]
    }
   ],
   "source": [
    "pipe_knn = Pipeline(steps=[\n",
    "    (\"scaler\", StandardScaler()),     \n",
    "    (\"model\", KNeighborsClassifier( \n",
    "        n_neighbors=3,             \n",
    "        weights='distance',        \n",
    "        metric='manhattan'\n",
    "    ))\n",
    "])\n",
    "\n",
    "pipe_knn.fit(X_train, y_train)\n",
    "\n",
    "cv_scores = cross_val_score(pipe_knn, X_train, y_train, cv=5)\n",
    "\n",
    "print(\"Cross-validation scores (accuracy per fold):\", np.round(cv_scores, 3))\n",
    "print(f\"Mean CV accuracy: {cv_scores.mean():.3f}\")\n",
    "print(f\"Standard deviation: {cv_scores.std():.3f}\")"
   ]
  },
  {
   "cell_type": "markdown",
   "id": "af8a00d3",
   "metadata": {},
   "source": [
    "## Predict labels for test set"
   ]
  },
  {
   "cell_type": "code",
   "execution_count": null,
   "id": "feaa4379",
   "metadata": {},
   "outputs": [],
   "source": [
    "y_pred = pipe_knn.predict(X_test)\n",
    "\n",
    "cm = confusion_matrix(y_test, y_pred)\n",
    "\n",
    "disp = ConfusionMatrixDisplay(confusion_matrix=cm, display_labels=pipe_knn.classes_)\n",
    "disp.plot(cmap=\"Blues\", values_format='d')\n",
    "plt.title(\"Confusion Matrix - KNN (Test Data)\")\n",
    "plt.show()"
   ]
  }
 ],
 "metadata": {
  "kernelspec": {
   "display_name": "AI_MED_Recruitment",
   "language": "python",
   "name": "python3"
  },
  "language_info": {
   "codemirror_mode": {
    "name": "ipython",
    "version": 3
   },
   "file_extension": ".py",
   "mimetype": "text/x-python",
   "name": "python",
   "nbconvert_exporter": "python",
   "pygments_lexer": "ipython3",
   "version": "3.14.0"
  }
 },
 "nbformat": 4,
 "nbformat_minor": 5
}
