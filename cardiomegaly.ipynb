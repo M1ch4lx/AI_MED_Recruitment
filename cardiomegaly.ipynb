{
 "cells": [
  {
   "cell_type": "markdown",
   "id": "3a6d6f94",
   "metadata": {},
   "source": [
    "# IN PROGRESS!!!!! dzisiaj skończe :)"
   ]
  },
  {
   "cell_type": "code",
   "execution_count": 2,
   "id": "d35fedd7",
   "metadata": {},
   "outputs": [],
   "source": [
    "import pandas as pd\n",
    "import numpy as np\n",
    "from sklearn.model_selection import train_test_split\n",
    "from sklearn.impute import SimpleImputer\n",
    "from sklearn.preprocessing import StandardScaler"
   ]
  },
  {
   "cell_type": "markdown",
   "id": "1dfd87e6",
   "metadata": {},
   "source": [
    "# Classification of a Heart with Hypertrophic Cardiomyopathy (Cardiomegaly)"
   ]
  },
  {
   "cell_type": "markdown",
   "id": "6161af3b",
   "metadata": {},
   "source": [
    "### Specify data file path"
   ]
  },
  {
   "cell_type": "code",
   "execution_count": 6,
   "id": "b9564d5e",
   "metadata": {},
   "outputs": [],
   "source": [
    "csv_path = \"task_data.csv\""
   ]
  },
  {
   "cell_type": "code",
   "execution_count": null,
   "id": "44798058",
   "metadata": {},
   "outputs": [
    {
     "name": "stdout",
     "output_type": "stream",
     "text": [
      "Loaded: (37, 14)\n",
      "Columns: ['ID', 'Cardiomegaly', 'Heart width', 'Lung width', 'CTR - Cardiothoracic Ratio', 'xx', 'yy', 'xy', 'normalized_diff', 'Inscribed circle radius', 'Polygon Area Ratio', 'Heart perimeter', 'Heart area ', 'Lung area']\n",
      "\n",
      "Train/test shapes: (29, 12) (8, 12)\n",
      "Train label distribution:\n",
      " Cardiomegaly\n",
      "1    22\n",
      "0     7\n",
      "Name: count, dtype: int64\n",
      "Test  label distribution:\n",
      " Cardiomegaly\n",
      "1    6\n",
      "0    2\n",
      "Name: count, dtype: int64\n"
     ]
    }
   ],
   "source": [
    "df = pd.read_csv(csv_path)\n",
    "print(\"Loaded:\", df.shape)\n",
    "print(\"Columns:\", list(df.columns)[:14])\n",
    "\n",
    "id_col = df.columns[0]\n",
    "label_col = df.columns[1]\n",
    "\n",
    "X = df.drop(columns=[id_col, label_col])\n",
    "y = df[label_col]\n",
    "\n",
    "X_train, X_test, y_train, y_test = train_test_split(\n",
    "    X, y, test_size=0.20, stratify=y, random_state=42\n",
    ")\n",
    "\n",
    "print(\"\\nTrain/test shapes:\", X_train.shape, X_test.shape)\n",
    "\n",
    "print(\"Train label distribution:\\n\", y_train.value_counts())\n",
    "print(\"Test  label distribution:\\n\", y_test.value_counts())\n",
    "\n",
    "\n"
   ]
  }
 ],
 "metadata": {
  "kernelspec": {
   "display_name": "AI_MED_Recruitment",
   "language": "python",
   "name": "python3"
  },
  "language_info": {
   "codemirror_mode": {
    "name": "ipython",
    "version": 3
   },
   "file_extension": ".py",
   "mimetype": "text/x-python",
   "name": "python",
   "nbconvert_exporter": "python",
   "pygments_lexer": "ipython3",
   "version": "3.14.0"
  }
 },
 "nbformat": 4,
 "nbformat_minor": 5
}
